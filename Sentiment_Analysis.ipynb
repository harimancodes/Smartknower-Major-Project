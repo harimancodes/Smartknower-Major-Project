{
  "nbformat": 4,
  "nbformat_minor": 0,
  "metadata": {
    "colab": {
      "name": "Sentiment Analysis.ipynb",
      "provenance": [],
      "collapsed_sections": [],
      "mount_file_id": "1tMPTAhK4AelhjVT62gACuZueq3PHWdtx",
      "authorship_tag": "ABX9TyP+iifZQL+jFSQ10uljVz9/",
      "include_colab_link": true
    },
    "kernelspec": {
      "name": "python3",
      "display_name": "Python 3"
    },
    "language_info": {
      "name": "python"
    }
  },
  "cells": [
    {
      "cell_type": "markdown",
      "metadata": {
        "id": "view-in-github",
        "colab_type": "text"
      },
      "source": [
        "<a href=\"https://colab.research.google.com/github/harimancodes/Smartknower-Major-Project/blob/main/Sentiment_Analysis.ipynb\" target=\"_parent\"><img src=\"https://colab.research.google.com/assets/colab-badge.svg\" alt=\"Open In Colab\"/></a>"
      ]
    },
    {
      "cell_type": "code",
      "metadata": {
        "colab": {
          "base_uri": "https://localhost:8080/",
          "height": 424
        },
        "id": "PO517-ndeV6O",
        "outputId": "6becf7b7-40dd-4304-b501-b17edb2f2dc2"
      },
      "source": [
        "import pandas as pd\n",
        "import numpy as np\n",
        "\n",
        "COMMENT_TYPE=['POSITIVE','NEGATIVE']\n",
        "df=pd.read_excel(\"/content/drive/MyDrive/Smartknower/reviews.xlsx\")\n",
        "df"
      ],
      "execution_count": null,
      "outputs": [
        {
          "output_type": "execute_result",
          "data": {
            "text/html": [
              "<div>\n",
              "<style scoped>\n",
              "    .dataframe tbody tr th:only-of-type {\n",
              "        vertical-align: middle;\n",
              "    }\n",
              "\n",
              "    .dataframe tbody tr th {\n",
              "        vertical-align: top;\n",
              "    }\n",
              "\n",
              "    .dataframe thead th {\n",
              "        text-align: right;\n",
              "    }\n",
              "</style>\n",
              "<table border=\"1\" class=\"dataframe\">\n",
              "  <thead>\n",
              "    <tr style=\"text-align: right;\">\n",
              "      <th></th>\n",
              "      <th>Reviews</th>\n",
              "      <th>Sentiment</th>\n",
              "    </tr>\n",
              "  </thead>\n",
              "  <tbody>\n",
              "    <tr>\n",
              "      <th>0</th>\n",
              "      <td>When I first tuned in on this morning news, I ...</td>\n",
              "      <td>neg</td>\n",
              "    </tr>\n",
              "    <tr>\n",
              "      <th>1</th>\n",
              "      <td>Mere thoughts of \"Going Overboard\" (aka \"Babes...</td>\n",
              "      <td>neg</td>\n",
              "    </tr>\n",
              "    <tr>\n",
              "      <th>2</th>\n",
              "      <td>Why does this movie fall WELL below standards?...</td>\n",
              "      <td>neg</td>\n",
              "    </tr>\n",
              "    <tr>\n",
              "      <th>3</th>\n",
              "      <td>Wow and I thought that any Steven Segal movie ...</td>\n",
              "      <td>neg</td>\n",
              "    </tr>\n",
              "    <tr>\n",
              "      <th>4</th>\n",
              "      <td>The story is seen before, but that does'n matt...</td>\n",
              "      <td>neg</td>\n",
              "    </tr>\n",
              "    <tr>\n",
              "      <th>...</th>\n",
              "      <td>...</td>\n",
              "      <td>...</td>\n",
              "    </tr>\n",
              "    <tr>\n",
              "      <th>24995</th>\n",
              "      <td>Everyone plays their part pretty well in this ...</td>\n",
              "      <td>pos</td>\n",
              "    </tr>\n",
              "    <tr>\n",
              "      <th>24996</th>\n",
              "      <td>It happened with Assault on Prescient 13 in 20...</td>\n",
              "      <td>neg</td>\n",
              "    </tr>\n",
              "    <tr>\n",
              "      <th>24997</th>\n",
              "      <td>My God. This movie was awful. I can't complain...</td>\n",
              "      <td>neg</td>\n",
              "    </tr>\n",
              "    <tr>\n",
              "      <th>24998</th>\n",
              "      <td>When I first popped in Happy Birthday to Me, I...</td>\n",
              "      <td>neg</td>\n",
              "    </tr>\n",
              "    <tr>\n",
              "      <th>24999</th>\n",
              "      <td>So why does this show suck? Unfortunately, tha...</td>\n",
              "      <td>neg</td>\n",
              "    </tr>\n",
              "  </tbody>\n",
              "</table>\n",
              "<p>25000 rows × 2 columns</p>\n",
              "</div>"
            ],
            "text/plain": [
              "                                                 Reviews Sentiment\n",
              "0      When I first tuned in on this morning news, I ...       neg\n",
              "1      Mere thoughts of \"Going Overboard\" (aka \"Babes...       neg\n",
              "2      Why does this movie fall WELL below standards?...       neg\n",
              "3      Wow and I thought that any Steven Segal movie ...       neg\n",
              "4      The story is seen before, but that does'n matt...       neg\n",
              "...                                                  ...       ...\n",
              "24995  Everyone plays their part pretty well in this ...       pos\n",
              "24996  It happened with Assault on Prescient 13 in 20...       neg\n",
              "24997  My God. This movie was awful. I can't complain...       neg\n",
              "24998  When I first popped in Happy Birthday to Me, I...       neg\n",
              "24999  So why does this show suck? Unfortunately, tha...       neg\n",
              "\n",
              "[25000 rows x 2 columns]"
            ]
          },
          "metadata": {
            "tags": []
          },
          "execution_count": 1
        }
      ]
    },
    {
      "cell_type": "code",
      "metadata": {
        "id": "cEd4GGUfgYvn"
      },
      "source": [
        "import nltk\n",
        "import string\n",
        "import regex as re"
      ],
      "execution_count": null,
      "outputs": []
    },
    {
      "cell_type": "code",
      "metadata": {
        "id": "7D6e1_2AfBtS"
      },
      "source": [
        "\n",
        "def clean(x): \n",
        "    # Remove all the punctuations\n",
        "    x=re.sub(\"[^a-zA-Z]\",\" \",str(x))\n",
        "   \n",
        "    x=re.sub(r\"\\W\", \" \", x, flags=re.I)\n",
        "    x= re.sub(r\"^\\s+\", \"\", x)\n",
        "    #Removing numbers\n",
        "    x=re.sub(r\"\\d\", \"\", x)\n",
        "\n",
        "    x=re.sub(r\"\\s+[a-zA-Z]\\s+\", \" \", x)\n",
        "\n",
        "    # Converting to Lowercase\n",
        "    x = x.lower()\n",
        " \n",
        "    return x "
      ],
      "execution_count": null,
      "outputs": []
    },
    {
      "cell_type": "code",
      "metadata": {
        "id": "LkRzD1UygO8U",
        "colab": {
          "base_uri": "https://localhost:8080/",
          "height": 206
        },
        "outputId": "91400fe1-8588-44d8-945d-a1548572fa18"
      },
      "source": [
        "df['Reviews']=df['Reviews'].apply(lambda x:clean(x))\n",
        "df.head()"
      ],
      "execution_count": null,
      "outputs": [
        {
          "output_type": "execute_result",
          "data": {
            "text/html": [
              "<div>\n",
              "<style scoped>\n",
              "    .dataframe tbody tr th:only-of-type {\n",
              "        vertical-align: middle;\n",
              "    }\n",
              "\n",
              "    .dataframe tbody tr th {\n",
              "        vertical-align: top;\n",
              "    }\n",
              "\n",
              "    .dataframe thead th {\n",
              "        text-align: right;\n",
              "    }\n",
              "</style>\n",
              "<table border=\"1\" class=\"dataframe\">\n",
              "  <thead>\n",
              "    <tr style=\"text-align: right;\">\n",
              "      <th></th>\n",
              "      <th>Reviews</th>\n",
              "      <th>Sentiment</th>\n",
              "    </tr>\n",
              "  </thead>\n",
              "  <tbody>\n",
              "    <tr>\n",
              "      <th>0</th>\n",
              "      <td>when first tuned in on this morning news thoug...</td>\n",
              "      <td>neg</td>\n",
              "    </tr>\n",
              "    <tr>\n",
              "      <th>1</th>\n",
              "      <td>mere thoughts of  going overboard   aka  babes...</td>\n",
              "      <td>neg</td>\n",
              "    </tr>\n",
              "    <tr>\n",
              "      <th>2</th>\n",
              "      <td>why does this movie fall well below standards ...</td>\n",
              "      <td>neg</td>\n",
              "    </tr>\n",
              "    <tr>\n",
              "      <th>3</th>\n",
              "      <td>wow and thought that any steven segal movie wa...</td>\n",
              "      <td>neg</td>\n",
              "    </tr>\n",
              "    <tr>\n",
              "      <th>4</th>\n",
              "      <td>the story is seen before  but that does matter...</td>\n",
              "      <td>neg</td>\n",
              "    </tr>\n",
              "  </tbody>\n",
              "</table>\n",
              "</div>"
            ],
            "text/plain": [
              "                                             Reviews Sentiment\n",
              "0  when first tuned in on this morning news thoug...       neg\n",
              "1  mere thoughts of  going overboard   aka  babes...       neg\n",
              "2  why does this movie fall well below standards ...       neg\n",
              "3  wow and thought that any steven segal movie wa...       neg\n",
              "4  the story is seen before  but that does matter...       neg"
            ]
          },
          "metadata": {
            "tags": []
          },
          "execution_count": 4
        }
      ]
    },
    {
      "cell_type": "code",
      "metadata": {
        "id": "y8UiH00jVPk5"
      },
      "source": [
        "x=df['Reviews']\n",
        "y=df['Sentiment']"
      ],
      "execution_count": null,
      "outputs": []
    },
    {
      "cell_type": "code",
      "metadata": {
        "colab": {
          "base_uri": "https://localhost:8080/"
        },
        "id": "37mcnTwmgeg8",
        "outputId": "40a0a2c3-7bcd-4aca-f873-2ab2a4914d23"
      },
      "source": [
        "# loading stopword\n",
        "nltk.download('stopwords')\n",
        "stopword_list=nltk.corpus.stopwords.words('english')\n",
        "len(stopword_list)"
      ],
      "execution_count": null,
      "outputs": [
        {
          "output_type": "stream",
          "text": [
            "[nltk_data] Downloading package stopwords to /root/nltk_data...\n",
            "[nltk_data]   Package stopwords is already up-to-date!\n"
          ],
          "name": "stdout"
        },
        {
          "output_type": "execute_result",
          "data": {
            "text/plain": [
              "179"
            ]
          },
          "metadata": {
            "tags": []
          },
          "execution_count": 6
        }
      ]
    },
    {
      "cell_type": "code",
      "metadata": {
        "colab": {
          "base_uri": "https://localhost:8080/"
        },
        "id": "-OrJfewWhPp4",
        "outputId": "ceaf378f-aff6-45a7-eb2d-8920e344000f"
      },
      "source": [
        "#remove 'no' and 'not' from stopword_list\n",
        "stopword_list.remove('no')\n",
        "stopword_list.remove('not')\n",
        "len(stopword_list)"
      ],
      "execution_count": null,
      "outputs": [
        {
          "output_type": "execute_result",
          "data": {
            "text/plain": [
              "177"
            ]
          },
          "metadata": {
            "tags": []
          },
          "execution_count": 7
        }
      ]
    },
    {
      "cell_type": "code",
      "metadata": {
        "colab": {
          "base_uri": "https://localhost:8080/"
        },
        "id": "d1xy2Je_hRKW",
        "outputId": "8abfcc83-dccb-4f76-f094-d5052dc05f73"
      },
      "source": [
        "#TFIDF Vectorizer\n",
        "from sklearn.feature_extraction.text import TfidfVectorizer\n",
        "vectorizer=TfidfVectorizer(stop_words=stopword_list,max_features=5000) \n",
        "\n",
        "\n",
        "\n",
        "X=vectorizer.fit_transform(x)\n",
        "\n",
        "X\n",
        "\n"
      ],
      "execution_count": null,
      "outputs": [
        {
          "output_type": "execute_result",
          "data": {
            "text/plain": [
              "<25000x5000 sparse matrix of type '<class 'numpy.float64'>'\n",
              "\twith 2013194 stored elements in Compressed Sparse Row format>"
            ]
          },
          "metadata": {
            "tags": []
          },
          "execution_count": 8
        }
      ]
    },
    {
      "cell_type": "code",
      "metadata": {
        "id": "UErmJZdBhbZt"
      },
      "source": [
        "from sklearn.model_selection import train_test_split\n",
        "\n",
        "X_train,X_test,y_train,y_test=train_test_split(X,y,test_size=0.3,random_state=52)\n",
        "\n",
        "\n"
      ],
      "execution_count": null,
      "outputs": []
    },
    {
      "cell_type": "code",
      "metadata": {
        "id": "GvkS86vEnOe9"
      },
      "source": [
        "from sklearn import svm\n",
        "\n",
        "svm_model=svm.SVC(kernel='linear',probability=True)\n",
        "\n",
        "prob=svm_model.fit(X_train,y_train).predict_proba(X_test)\n",
        "\n",
        "y_pred=svm_model.predict(X_test)"
      ],
      "execution_count": null,
      "outputs": []
    },
    {
      "cell_type": "code",
      "metadata": {
        "colab": {
          "base_uri": "https://localhost:8080/"
        },
        "id": "hv-PqHZTnQR9",
        "outputId": "caba9950-560a-4ae7-e5e2-b42be013a2b5"
      },
      "source": [
        "y_pred"
      ],
      "execution_count": null,
      "outputs": [
        {
          "output_type": "execute_result",
          "data": {
            "text/plain": [
              "array(['pos', 'pos', 'pos', ..., 'pos', 'pos', 'neg'], dtype=object)"
            ]
          },
          "metadata": {
            "tags": []
          },
          "execution_count": 11
        }
      ]
    },
    {
      "cell_type": "code",
      "metadata": {
        "colab": {
          "base_uri": "https://localhost:8080/"
        },
        "id": "RoYQjznLn8zU",
        "outputId": "3f433787-f5c8-4140-92ef-ab24ec1019dd"
      },
      "source": [
        "y_test"
      ],
      "execution_count": null,
      "outputs": [
        {
          "output_type": "execute_result",
          "data": {
            "text/plain": [
              "7580     pos\n",
              "10486    pos\n",
              "21698    pos\n",
              "310      pos\n",
              "4829     neg\n",
              "        ... \n",
              "14666    pos\n",
              "17179    pos\n",
              "12827    pos\n",
              "4116     pos\n",
              "6539     neg\n",
              "Name: Sentiment, Length: 7500, dtype: object"
            ]
          },
          "metadata": {
            "tags": []
          },
          "execution_count": 12
        }
      ]
    },
    {
      "cell_type": "code",
      "metadata": {
        "colab": {
          "base_uri": "https://localhost:8080/"
        },
        "id": "nawMyP4gn-M6",
        "outputId": "dc449e90-49bb-4aca-e4cf-62025ca7fc43"
      },
      "source": [
        "from sklearn.metrics import confusion_matrix,accuracy_score,classification_report\n",
        "print(\"Acccuracy Score for SVC is \",accuracy_score(y_test,y_pred)*100,'%')"
      ],
      "execution_count": null,
      "outputs": [
        {
          "output_type": "stream",
          "text": [
            "Acccuracy Score for SVC is  88.09333333333333 %\n"
          ],
          "name": "stdout"
        }
      ]
    },
    {
      "cell_type": "code",
      "metadata": {
        "colab": {
          "base_uri": "https://localhost:8080/"
        },
        "id": "PF_beRzToTRv",
        "outputId": "fde111bd-4dac-41ac-f0cf-29d09eae0361"
      },
      "source": [
        "confusion_matrix(y_test,y_pred)"
      ],
      "execution_count": null,
      "outputs": [
        {
          "output_type": "execute_result",
          "data": {
            "text/plain": [
              "array([[3229,  508],\n",
              "       [ 385, 3378]])"
            ]
          },
          "metadata": {
            "tags": []
          },
          "execution_count": 14
        }
      ]
    },
    {
      "cell_type": "code",
      "metadata": {
        "colab": {
          "base_uri": "https://localhost:8080/"
        },
        "id": "IHRsalolokRH",
        "outputId": "4eff04ad-5f7b-4c1e-c65a-8f9b3a8338b7"
      },
      "source": [
        "print(classification_report(y_test,y_pred))"
      ],
      "execution_count": null,
      "outputs": [
        {
          "output_type": "stream",
          "text": [
            "              precision    recall  f1-score   support\n",
            "\n",
            "         neg       0.89      0.86      0.88      3737\n",
            "         pos       0.87      0.90      0.88      3763\n",
            "\n",
            "    accuracy                           0.88      7500\n",
            "   macro avg       0.88      0.88      0.88      7500\n",
            "weighted avg       0.88      0.88      0.88      7500\n",
            "\n"
          ],
          "name": "stdout"
        }
      ]
    },
    {
      "cell_type": "code",
      "metadata": {
        "id": "x95u_Q6ydm0H"
      },
      "source": [
        "from sklearn.externals import joblib\n",
        " \n",
        "# Save the model as a pickle in a file\n",
        "joblib.dump(svm_model, 'model.pkl')\n",
        "model_from_joblib = joblib.load('model.pkl')"
      ],
      "execution_count": null,
      "outputs": []
    },
    {
      "cell_type": "code",
      "metadata": {
        "id": "viVd_cDWrXPH"
      },
      "source": [
        "# #Testing \n",
        "# read=input(\"Enter your URL :\")\n",
        "# read=clean(read)\n",
        "# print(read)\n",
        "# # vec=TfidfVectorizer() \n",
        "# v=vectorizer.fit_transform([read])\n",
        "\n",
        "# y_out=svm_model.predict(v)\n",
        "\n",
        "# print(f\"Predicted output : {y_out}\")"
      ],
      "execution_count": null,
      "outputs": []
    },
    {
      "cell_type": "code",
      "metadata": {
        "id": "v5Hxbs-pp4SK",
        "colab": {
          "base_uri": "https://localhost:8080/",
          "height": 36
        },
        "outputId": "efe6de0c-4c32-43e3-d9a2-f337530cdde5"
      },
      "source": [
        "text=\"Worst movie ever watched\"\n",
        "text=clean(text)\n",
        "text"
      ],
      "execution_count": null,
      "outputs": [
        {
          "output_type": "execute_result",
          "data": {
            "application/vnd.google.colaboratory.intrinsic+json": {
              "type": "string"
            },
            "text/plain": [
              "'worst movie ever watched'"
            ]
          },
          "metadata": {
            "tags": []
          },
          "execution_count": 40
        }
      ]
    },
    {
      "cell_type": "code",
      "metadata": {
        "id": "cKA9zZqOUCZq"
      },
      "source": [
        "vec=vectorizer.transform([text])"
      ],
      "execution_count": null,
      "outputs": []
    },
    {
      "cell_type": "code",
      "metadata": {
        "colab": {
          "base_uri": "https://localhost:8080/"
        },
        "id": "XIWEAUkuUHk3",
        "outputId": "8d2f9ba1-8f90-42c1-abed-a540767764a1"
      },
      "source": [
        "vec .shape"
      ],
      "execution_count": null,
      "outputs": [
        {
          "output_type": "execute_result",
          "data": {
            "text/plain": [
              "(1, 5000)"
            ]
          },
          "metadata": {
            "tags": []
          },
          "execution_count": 42
        }
      ]
    },
    {
      "cell_type": "code",
      "metadata": {
        "colab": {
          "base_uri": "https://localhost:8080/"
        },
        "id": "I7u9smDHUJ9E",
        "outputId": "aee5b110-080a-4420-c422-cf37b89926e5"
      },
      "source": [
        "model_from_joblib.predict(vec)"
      ],
      "execution_count": null,
      "outputs": [
        {
          "output_type": "execute_result",
          "data": {
            "text/plain": [
              "array(['neg'], dtype=object)"
            ]
          },
          "metadata": {
            "tags": []
          },
          "execution_count": 43
        }
      ]
    },
    {
      "cell_type": "code",
      "metadata": {
        "colab": {
          "base_uri": "https://localhost:8080/"
        },
        "id": "pmiYwCW0URs2",
        "outputId": "de8a5531-c111-4e73-e77a-930718443b21"
      },
      "source": [
        "!pip install streamlit --quiet\n",
        "!pip install pyngrok==4.1.1\n",
        "from pyngrok import ngrok"
      ],
      "execution_count": null,
      "outputs": [
        {
          "output_type": "stream",
          "text": [
            "\u001b[K     |████████████████████████████████| 7.8MB 4.6MB/s \n",
            "\u001b[K     |████████████████████████████████| 174kB 45.3MB/s \n",
            "\u001b[K     |████████████████████████████████| 81kB 6.2MB/s \n",
            "\u001b[K     |████████████████████████████████| 4.2MB 46.8MB/s \n",
            "\u001b[K     |████████████████████████████████| 112kB 47.0MB/s \n",
            "\u001b[K     |████████████████████████████████| 71kB 7.3MB/s \n",
            "\u001b[K     |████████████████████████████████| 122kB 39.0MB/s \n",
            "\u001b[K     |████████████████████████████████| 788kB 34.2MB/s \n",
            "\u001b[K     |████████████████████████████████| 368kB 37.4MB/s \n",
            "\u001b[?25h  Building wheel for blinker (setup.py) ... \u001b[?25l\u001b[?25hdone\n",
            "\u001b[31mERROR: jupyter-console 5.2.0 has requirement prompt-toolkit<2.0.0,>=1.0.0, but you'll have prompt-toolkit 3.0.19 which is incompatible.\u001b[0m\n",
            "\u001b[31mERROR: google-colab 1.0.0 has requirement ipykernel~=4.10, but you'll have ipykernel 6.0.1 which is incompatible.\u001b[0m\n",
            "\u001b[31mERROR: google-colab 1.0.0 has requirement ipython~=5.5.0, but you'll have ipython 7.25.0 which is incompatible.\u001b[0m\n",
            "Collecting pyngrok==4.1.1\n",
            "  Downloading https://files.pythonhosted.org/packages/e4/a9/de2e15c92eb3aa4a2646ce3a7542317eb69ac47f667578ce8bf916320847/pyngrok-4.1.1.tar.gz\n",
            "Requirement already satisfied: future in /usr/local/lib/python3.7/dist-packages (from pyngrok==4.1.1) (0.16.0)\n",
            "Requirement already satisfied: PyYAML in /usr/local/lib/python3.7/dist-packages (from pyngrok==4.1.1) (3.13)\n",
            "Building wheels for collected packages: pyngrok\n",
            "  Building wheel for pyngrok (setup.py) ... \u001b[?25l\u001b[?25hdone\n",
            "  Created wheel for pyngrok: filename=pyngrok-4.1.1-cp37-none-any.whl size=15985 sha256=2ccd1380f97a5993b402abc24beef5238519faa54c4f39219b90d075ea93d01d\n",
            "  Stored in directory: /root/.cache/pip/wheels/97/71/0d/1695f7c8815c0beb3b5d9b35d6eec9243c87e6070fbe3977fa\n",
            "Successfully built pyngrok\n",
            "Installing collected packages: pyngrok\n",
            "Successfully installed pyngrok-4.1.1\n"
          ],
          "name": "stdout"
        }
      ]
    },
    {
      "cell_type": "code",
      "metadata": {
        "colab": {
          "base_uri": "https://localhost:8080/"
        },
        "id": "dAHGQwBiyVHg",
        "outputId": "c7fdd10b-a73e-4743-c543-9f94e18ad973"
      },
      "source": [
        "%%writefile app.py\n",
        "import streamlit as st\n",
        "import nltk\n",
        "import string\n",
        "import regex as re\n",
        "from sklearn.feature_extraction.text import TfidfVectorizer\n",
        "\n",
        "# loading stopword\n",
        "nltk.download('stopwords')\n",
        "stopword_list=nltk.corpus.stopwords.words('english')\n",
        "len(stopword_list)\n",
        "\n",
        "#remove 'no' and 'not' from stopword_list\n",
        "stopword_list.remove('no')\n",
        "stopword_list.remove('not')\n",
        "len(stopword_list)\n",
        "\n",
        "def clean(x): \n",
        "    # Remove all the punctuations\n",
        "    x=re.sub(\"[^a-zA-Z]\",\" \",str(x))\n",
        "   \n",
        "    x=re.sub(r\"\\W\", \" \", x, flags=re.I)\n",
        "    x= re.sub(r\"^\\s+\", \"\", x)\n",
        "    #Removing numbers\n",
        "    x=re.sub(r\"\\d\", \"\", x)\n",
        "\n",
        "    x=re.sub(r\"\\s+[a-zA-Z]\\s+\", \" \", x)\n",
        "\n",
        "    # Converting to Lowercase\n",
        "    x = x.lower()\n",
        " \n",
        "    return x \n",
        "\n",
        "st.title('Sentimental Analysis')\n",
        "\n",
        "read=st.text_input(\"Enter the comment : \")\n",
        "text=clean(read)\n",
        "\n",
        "vec=vectorizer.transform([text])\n",
        "print(vec.shape)\n",
        "st.write(model_from_joblib.predict(vec))"
      ],
      "execution_count": null,
      "outputs": [
        {
          "output_type": "stream",
          "text": [
            "Overwriting app.py\n"
          ],
          "name": "stdout"
        }
      ]
    },
    {
      "cell_type": "code",
      "metadata": {
        "colab": {
          "base_uri": "https://localhost:8080/",
          "height": 595
        },
        "id": "0cna02ZWzMs-",
        "outputId": "e9b016fc-f3b0-4cf2-ca4f-20722cee3146"
      },
      "source": [
        "!nohup streamlit run app.py &\n",
        "url=ngrok.connect(port='8501')\n",
        "url"
      ],
      "execution_count": null,
      "outputs": [
        {
          "output_type": "stream",
          "text": [
            "nohup: appending output to 'nohup.out'\n"
          ],
          "name": "stdout"
        },
        {
          "output_type": "stream",
          "text": [
            "2021-07-14 06:56:17.835 INFO    pyngrok.process: ngrok process starting: 3223\n",
            "2021-07-14 06:56:17.868 INFO    pyngrok.process: t=2021-07-14T06:56:17+0000 lvl=info msg=\"no configuration paths supplied\"\n",
            "\n",
            "2021-07-14 06:56:17.872 INFO    pyngrok.process: t=2021-07-14T06:56:17+0000 lvl=info msg=\"using configuration at default config path\" path=/root/.ngrok2/ngrok.yml\n",
            "\n",
            "2021-07-14 06:56:17.874 INFO    pyngrok.process: t=2021-07-14T06:56:17+0000 lvl=info msg=\"open config file\" path=/root/.ngrok2/ngrok.yml err=nil\n",
            "\n",
            "2021-07-14 06:56:17.880 INFO    pyngrok.process: t=2021-07-14T06:56:17+0000 lvl=info msg=\"starting web service\" obj=web addr=127.0.0.1:4040\n",
            "\n",
            "2021-07-14 06:56:18.035 INFO    pyngrok.process: t=2021-07-14T06:56:18+0000 lvl=info msg=\"tunnel session started\" obj=tunnels.session\n",
            "\n",
            "2021-07-14 06:56:18.039 INFO    pyngrok.process: t=2021-07-14T06:56:18+0000 lvl=info msg=\"client session established\" obj=csess id=313aec95bbd5\n",
            "\n",
            "2021-07-14 06:56:18.044 INFO    pyngrok.process: ngrok process has started: http://127.0.0.1:4040\n",
            "2021-07-14 06:56:18.057 INFO    pyngrok.process: t=2021-07-14T06:56:18+0000 lvl=info msg=start pg=/api/tunnels id=ea4baa87079f04f0\n",
            "\n",
            "2021-07-14 06:56:18.061 INFO    pyngrok.process: t=2021-07-14T06:56:18+0000 lvl=info msg=end pg=/api/tunnels id=ea4baa87079f04f0 status=200 dur=407.526µs\n",
            "\n",
            "2021-07-14 06:56:18.063 INFO    pyngrok.process: t=2021-07-14T06:56:18+0000 lvl=info msg=start pg=/api/tunnels id=b1473204e33f2e6d\n",
            "\n",
            "2021-07-14 06:56:18.068 INFO    pyngrok.process: t=2021-07-14T06:56:18+0000 lvl=info msg=end pg=/api/tunnels id=b1473204e33f2e6d status=200 dur=129.342µs\n",
            "\n",
            "2021-07-14 06:56:18.070 INFO    pyngrok.process: t=2021-07-14T06:56:18+0000 lvl=info msg=start pg=/api/tunnels id=3845afbb16af7d75\n",
            "\n",
            "2021-07-14 06:56:18.137 INFO    pyngrok.process: t=2021-07-14T06:56:18+0000 lvl=info msg=\"started tunnel\" obj=tunnels name=\"http-8501-418f2673-0ecb-4f8c-9cce-f5d5c4b2b546 (http)\" addr=http://localhost:8501 url=http://854b4bda62a3.ngrok.io\n",
            "\n",
            "2021-07-14 06:56:18.140 INFO    pyngrok.process: t=2021-07-14T06:56:18+0000 lvl=info msg=\"started tunnel\" obj=tunnels name=http-8501-418f2673-0ecb-4f8c-9cce-f5d5c4b2b546 addr=http://localhost:8501 url=https://854b4bda62a3.ngrok.io\n",
            "\n",
            "2021-07-14 06:56:18.145 INFO    pyngrok.process: t=2021-07-14T06:56:18+0000 lvl=info msg=end pg=/api/tunnels id=3845afbb16af7d75 status=201 dur=76.072296ms\n",
            "\n"
          ],
          "name": "stderr"
        },
        {
          "output_type": "execute_result",
          "data": {
            "application/vnd.google.colaboratory.intrinsic+json": {
              "type": "string"
            },
            "text/plain": [
              "'http://854b4bda62a3.ngrok.io'"
            ]
          },
          "metadata": {
            "tags": []
          },
          "execution_count": 47
        }
      ]
    },
    {
      "cell_type": "code",
      "metadata": {
        "id": "JuZ6thHGzUKY"
      },
      "source": [
        ""
      ],
      "execution_count": null,
      "outputs": []
    }
  ]
}